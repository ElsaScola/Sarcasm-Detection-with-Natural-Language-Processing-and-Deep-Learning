{
 "cells": [
  {
   "cell_type": "markdown",
   "metadata": {},
   "source": [
    "# LSTM for Sarcasm Detection"
   ]
  },
  {
   "cell_type": "markdown",
   "metadata": {},
   "source": [
    "### Imports"
   ]
  },
  {
   "cell_type": "code",
   "execution_count": 16,
   "metadata": {},
   "outputs": [
    {
     "name": "stderr",
     "output_type": "stream",
     "text": [
      "Using TensorFlow backend.\n",
      "ERROR:root:Internal Python error in the inspect module.\n",
      "Below is the traceback from this internal error.\n",
      "\n"
     ]
    },
    {
     "name": "stdout",
     "output_type": "stream",
     "text": [
      "Traceback (most recent call last):\n",
      "  File \"C:\\Users\\elsas\\Anaconda3\\envs\\Tech-Fundamentals-Lab1\\lib\\site-packages\\IPython\\core\\interactiveshell.py\", line 3326, in run_code\n",
      "  File \"<ipython-input-16-3579d8bf1ecb>\", line 3, in <module>\n",
      "    from keras.preprocessing.text import Tokenizer\n",
      "  File \"C:\\Users\\elsas\\Anaconda3\\envs\\Tech-Fundamentals-Lab1\\lib\\site-packages\\keras\\__init__.py\", line 3, in <module>\n",
      "    from . import utils\n",
      "  File \"C:\\Users\\elsas\\Anaconda3\\envs\\Tech-Fundamentals-Lab1\\lib\\site-packages\\keras\\utils\\__init__.py\", line 6, in <module>\n",
      "    from . import conv_utils\n",
      "  File \"C:\\Users\\elsas\\Anaconda3\\envs\\Tech-Fundamentals-Lab1\\lib\\site-packages\\keras\\utils\\conv_utils.py\", line 9, in <module>\n",
      "    from .. import backend as K\n",
      "  File \"C:\\Users\\elsas\\Anaconda3\\envs\\Tech-Fundamentals-Lab1\\lib\\site-packages\\keras\\backend\\__init__.py\", line 1, in <module>\n",
      "    from .load_backend import epsilon\n",
      "  File \"C:\\Users\\elsas\\Anaconda3\\envs\\Tech-Fundamentals-Lab1\\lib\\site-packages\\keras\\backend\\load_backend.py\", line 90, in <module>\n",
      "    from .tensorflow_backend import *\n",
      "  File \"C:\\Users\\elsas\\Anaconda3\\envs\\Tech-Fundamentals-Lab1\\lib\\site-packages\\keras\\backend\\tensorflow_backend.py\", line 6, in <module>\n",
      "    from tensorflow.python.eager import context\n",
      "ImportError: cannot import name 'context' from 'tensorflow.python.eager' (C:\\Users\\elsas\\Anaconda3\\envs\\Tech-Fundamentals-Lab1\\lib\\site-packages\\tensorflow_core\\python\\eager\\__init__.py)\n",
      "\n",
      "During handling of the above exception, another exception occurred:\n",
      "\n",
      "Traceback (most recent call last):\n",
      "  File \"C:\\Users\\elsas\\Anaconda3\\envs\\Tech-Fundamentals-Lab1\\lib\\site-packages\\IPython\\core\\interactiveshell.py\", line 2040, in showtraceback\n",
      "AttributeError: 'ImportError' object has no attribute '_render_traceback_'\n",
      "\n",
      "During handling of the above exception, another exception occurred:\n",
      "\n",
      "Traceback (most recent call last):\n",
      "  File \"C:\\Users\\elsas\\Anaconda3\\envs\\Tech-Fundamentals-Lab1\\lib\\site-packages\\IPython\\core\\ultratb.py\", line 1101, in get_records\n",
      "  File \"C:\\Users\\elsas\\Anaconda3\\envs\\Tech-Fundamentals-Lab1\\lib\\site-packages\\IPython\\core\\ultratb.py\", line 319, in wrapped\n",
      "  File \"C:\\Users\\elsas\\Anaconda3\\envs\\Tech-Fundamentals-Lab1\\lib\\site-packages\\IPython\\core\\ultratb.py\", line 353, in _fixed_getinnerframes\n",
      "  File \"C:\\Users\\elsas\\Anaconda3\\envs\\Tech-Fundamentals-Lab1\\lib\\inspect.py\", line 1500, in getinnerframes\n",
      "    framelist = []\n",
      "  File \"C:\\Users\\elsas\\Anaconda3\\envs\\Tech-Fundamentals-Lab1\\lib\\inspect.py\", line 1458, in getframeinfo\n",
      "    raise TypeError('{!r} is not a frame or traceback object'.format(frame))\n",
      "  File \"C:\\Users\\elsas\\Anaconda3\\envs\\Tech-Fundamentals-Lab1\\lib\\inspect.py\", line 696, in getsourcefile\n",
      "    if getattr(getmodule(object, filename), '__loader__', None) is not None:\n",
      "  File \"C:\\Users\\elsas\\Anaconda3\\envs\\Tech-Fundamentals-Lab1\\lib\\inspect.py\", line 733, in getmodule\n",
      "    if ismodule(module) and hasattr(module, '__file__'):\n",
      "  File \"C:\\Users\\elsas\\Anaconda3\\envs\\Tech-Fundamentals-Lab1\\lib\\site-packages\\tensorflow\\__init__.py\", line 50, in __getattr__\n",
      "    from tensorflow._api.v1 import math\n",
      "  File \"C:\\Users\\elsas\\Anaconda3\\envs\\Tech-Fundamentals-Lab1\\lib\\site-packages\\tensorflow\\__init__.py\", line 44, in _load\n",
      "    from tensorflow._api.v1 import layers\n",
      "  File \"C:\\Users\\elsas\\Anaconda3\\envs\\Tech-Fundamentals-Lab1\\lib\\importlib\\__init__.py\", line 127, in import_module\n",
      "    return _bootstrap._gcd_import(name[level:], package, level)\n",
      "  File \"<frozen importlib._bootstrap>\", line 1006, in _gcd_import\n",
      "  File \"<frozen importlib._bootstrap>\", line 983, in _find_and_load\n",
      "  File \"<frozen importlib._bootstrap>\", line 953, in _find_and_load_unlocked\n",
      "  File \"<frozen importlib._bootstrap>\", line 219, in _call_with_frames_removed\n",
      "  File \"<frozen importlib._bootstrap>\", line 1006, in _gcd_import\n",
      "  File \"<frozen importlib._bootstrap>\", line 983, in _find_and_load\n",
      "  File \"<frozen importlib._bootstrap>\", line 965, in _find_and_load_unlocked\n",
      "ModuleNotFoundError: No module named 'tensorflow_core'\n"
     ]
    },
    {
     "ename": "ImportError",
     "evalue": "cannot import name 'context' from 'tensorflow.python.eager' (C:\\Users\\elsas\\Anaconda3\\envs\\Tech-Fundamentals-Lab1\\lib\\site-packages\\tensorflow_core\\python\\eager\\__init__.py)",
     "output_type": "error",
     "traceback": [
      "\u001b[1;31m---------------------------------------------------------------------------\u001b[0m"
     ]
    }
   ],
   "source": [
    "import pandas as pd\n",
    "import numpy as np\n",
    "from keras.preprocessing.text import Tokenizer\n",
    "from keras.preprocessing.sequence import pad_sequences\n",
    "from keras.layers import Dense, Input, CuDNNLSTM, Embedding, Dropout, Activation, Flatten, Bidirectional, GlobalMaxPool1D\n",
    "from keras.models import Model, Sequential"
   ]
  },
  {
   "cell_type": "markdown",
   "metadata": {},
   "source": [
    "### Load data"
   ]
  },
  {
   "cell_type": "code",
   "execution_count": 10,
   "metadata": {},
   "outputs": [
    {
     "name": "stdout",
     "output_type": "stream",
     "text": [
      "55328\n"
     ]
    },
    {
     "data": {
      "text/html": [
       "<div>\n",
       "<style scoped>\n",
       "    .dataframe tbody tr th:only-of-type {\n",
       "        vertical-align: middle;\n",
       "    }\n",
       "\n",
       "    .dataframe tbody tr th {\n",
       "        vertical-align: top;\n",
       "    }\n",
       "\n",
       "    .dataframe thead th {\n",
       "        text-align: right;\n",
       "    }\n",
       "</style>\n",
       "<table border=\"1\" class=\"dataframe\">\n",
       "  <thead>\n",
       "    <tr style=\"text-align: right;\">\n",
       "      <th></th>\n",
       "      <th>headline</th>\n",
       "      <th>is_sarcastic</th>\n",
       "    </tr>\n",
       "  </thead>\n",
       "  <tbody>\n",
       "    <tr>\n",
       "      <td>0</td>\n",
       "      <td>former versace store clerk sues over secret 'b...</td>\n",
       "      <td>0</td>\n",
       "    </tr>\n",
       "    <tr>\n",
       "      <td>1</td>\n",
       "      <td>the 'roseanne' revival catches up to our thorn...</td>\n",
       "      <td>0</td>\n",
       "    </tr>\n",
       "    <tr>\n",
       "      <td>2</td>\n",
       "      <td>mom starting to fear son's web series closest ...</td>\n",
       "      <td>1</td>\n",
       "    </tr>\n",
       "    <tr>\n",
       "      <td>3</td>\n",
       "      <td>boehner just wants wife to listen, not come up...</td>\n",
       "      <td>1</td>\n",
       "    </tr>\n",
       "    <tr>\n",
       "      <td>4</td>\n",
       "      <td>j.k. rowling wishes snape happy birthday in th...</td>\n",
       "      <td>0</td>\n",
       "    </tr>\n",
       "  </tbody>\n",
       "</table>\n",
       "</div>"
      ],
      "text/plain": [
       "                                            headline  is_sarcastic\n",
       "0  former versace store clerk sues over secret 'b...             0\n",
       "1  the 'roseanne' revival catches up to our thorn...             0\n",
       "2  mom starting to fear son's web series closest ...             1\n",
       "3  boehner just wants wife to listen, not come up...             1\n",
       "4  j.k. rowling wishes snape happy birthday in th...             0"
      ]
     },
     "execution_count": 10,
     "metadata": {},
     "output_type": "execute_result"
    }
   ],
   "source": [
    "df1 = pd.read_json(\"./data/Sarcasm_Headlines_Dataset.json\", lines=True)\n",
    "df2 = pd.read_json(\"./data/Sarcasm_Headlines_Dataset_v2.json\", lines=True)\n",
    "# re-order attibute columns in df2\n",
    "df2 = df2[['article_link','headline','is_sarcastic']]\n",
    "df = pd.concat([df1, df2], axis=0)\n",
    "df = df.drop(['article_link'], axis=1)\n",
    "print(len(df))\n",
    "df.head()\n"
   ]
  },
  {
   "cell_type": "code",
   "execution_count": 17,
   "metadata": {},
   "outputs": [
    {
     "name": "stderr",
     "output_type": "stream",
     "text": [
      "ERROR:root:Internal Python error in the inspect module.\n",
      "Below is the traceback from this internal error.\n",
      "\n"
     ]
    },
    {
     "name": "stdout",
     "output_type": "stream",
     "text": [
      "Traceback (most recent call last):\n",
      "  File \"C:\\Users\\elsas\\Anaconda3\\envs\\Tech-Fundamentals-Lab1\\lib\\site-packages\\IPython\\core\\interactiveshell.py\", line 3326, in run_code\n",
      "  File \"<ipython-input-17-4ad73b9b73a7>\", line 5, in <module>\n",
      "    tokenizer = Tokenizer(num_words=max_features)\n",
      "NameError: name 'Tokenizer' is not defined\n",
      "\n",
      "During handling of the above exception, another exception occurred:\n",
      "\n",
      "Traceback (most recent call last):\n",
      "  File \"C:\\Users\\elsas\\Anaconda3\\envs\\Tech-Fundamentals-Lab1\\lib\\site-packages\\IPython\\core\\interactiveshell.py\", line 2040, in showtraceback\n",
      "AttributeError: 'NameError' object has no attribute '_render_traceback_'\n",
      "\n",
      "During handling of the above exception, another exception occurred:\n",
      "\n",
      "Traceback (most recent call last):\n",
      "  File \"C:\\Users\\elsas\\Anaconda3\\envs\\Tech-Fundamentals-Lab1\\lib\\site-packages\\IPython\\core\\ultratb.py\", line 1101, in get_records\n",
      "  File \"C:\\Users\\elsas\\Anaconda3\\envs\\Tech-Fundamentals-Lab1\\lib\\site-packages\\IPython\\core\\ultratb.py\", line 319, in wrapped\n",
      "  File \"C:\\Users\\elsas\\Anaconda3\\envs\\Tech-Fundamentals-Lab1\\lib\\site-packages\\IPython\\core\\ultratb.py\", line 353, in _fixed_getinnerframes\n",
      "  File \"C:\\Users\\elsas\\Anaconda3\\envs\\Tech-Fundamentals-Lab1\\lib\\inspect.py\", line 1500, in getinnerframes\n",
      "    framelist = []\n",
      "  File \"C:\\Users\\elsas\\Anaconda3\\envs\\Tech-Fundamentals-Lab1\\lib\\inspect.py\", line 1458, in getframeinfo\n",
      "    raise TypeError('{!r} is not a frame or traceback object'.format(frame))\n",
      "  File \"C:\\Users\\elsas\\Anaconda3\\envs\\Tech-Fundamentals-Lab1\\lib\\inspect.py\", line 696, in getsourcefile\n",
      "    if getattr(getmodule(object, filename), '__loader__', None) is not None:\n",
      "  File \"C:\\Users\\elsas\\Anaconda3\\envs\\Tech-Fundamentals-Lab1\\lib\\inspect.py\", line 733, in getmodule\n",
      "    if ismodule(module) and hasattr(module, '__file__'):\n",
      "  File \"C:\\Users\\elsas\\Anaconda3\\envs\\Tech-Fundamentals-Lab1\\lib\\site-packages\\tensorflow\\__init__.py\", line 50, in __getattr__\n",
      "    from tensorflow._api.v1 import math\n",
      "  File \"C:\\Users\\elsas\\Anaconda3\\envs\\Tech-Fundamentals-Lab1\\lib\\site-packages\\tensorflow\\__init__.py\", line 44, in _load\n",
      "    from tensorflow._api.v1 import layers\n",
      "  File \"C:\\Users\\elsas\\Anaconda3\\envs\\Tech-Fundamentals-Lab1\\lib\\importlib\\__init__.py\", line 127, in import_module\n",
      "    return _bootstrap._gcd_import(name[level:], package, level)\n",
      "  File \"<frozen importlib._bootstrap>\", line 1006, in _gcd_import\n",
      "  File \"<frozen importlib._bootstrap>\", line 983, in _find_and_load\n",
      "  File \"<frozen importlib._bootstrap>\", line 953, in _find_and_load_unlocked\n",
      "  File \"<frozen importlib._bootstrap>\", line 219, in _call_with_frames_removed\n",
      "  File \"<frozen importlib._bootstrap>\", line 1006, in _gcd_import\n",
      "  File \"<frozen importlib._bootstrap>\", line 983, in _find_and_load\n",
      "  File \"<frozen importlib._bootstrap>\", line 965, in _find_and_load_unlocked\n",
      "ModuleNotFoundError: No module named 'tensorflow_core'\n"
     ]
    },
    {
     "ename": "NameError",
     "evalue": "name 'Tokenizer' is not defined",
     "output_type": "error",
     "traceback": [
      "\u001b[1;31m---------------------------------------------------------------------------\u001b[0m"
     ]
    }
   ],
   "source": [
    "max_features = 10000\n",
    "maxlen = 25\n",
    "embedding_size = 200\n",
    "\n",
    "tokenizer = Tokenizer(num_words=max_features)\n",
    "tokenizer.fit_on_texts(list(df['headline']))\n",
    "X = tokenizer.texts_to_sequences(df['headline'])\n",
    "X = pad_sequences(X, maxlen = maxlen)\n",
    "y = df['is_sarcastic']"
   ]
  },
  {
   "cell_type": "markdown",
   "metadata": {},
   "source": [
    "### Generate embeddings"
   ]
  },
  {
   "cell_type": "markdown",
   "metadata": {},
   "source": [
    "https://nlp.stanford.edu/projects/glove/"
   ]
  },
  {
   "cell_type": "markdown",
   "metadata": {},
   "source": [
    "### Split data into train, validation and test"
   ]
  },
  {
   "cell_type": "markdown",
   "metadata": {},
   "source": [
    "We'll give 50% of the data to train and 25% each to validation and test."
   ]
  }
 ],
 "metadata": {
  "kernelspec": {
   "display_name": "Python 3",
   "language": "python",
   "name": "python3"
  },
  "language_info": {
   "codemirror_mode": {
    "name": "ipython",
    "version": 3
   },
   "file_extension": ".py",
   "mimetype": "text/x-python",
   "name": "python",
   "nbconvert_exporter": "python",
   "pygments_lexer": "ipython3",
   "version": "3.7.1"
  }
 },
 "nbformat": 4,
 "nbformat_minor": 2
}
